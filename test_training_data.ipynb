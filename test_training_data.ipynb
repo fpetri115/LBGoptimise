{
 "cells": [
  {
   "cell_type": "code",
   "execution_count": 1,
   "metadata": {},
   "outputs": [],
   "source": [
    "import numpy as np\n",
    "import matplotlib.pyplot as plt\n",
    "import pandas as pd\n",
    "import tensorflow as tf\n",
    "import tensorflow_decision_forests as tfdf\n"
   ]
  },
  {
   "cell_type": "code",
   "execution_count": 2,
   "metadata": {},
   "outputs": [],
   "source": [
    "sps_parameters = np.load(\"training_data/sps_parameters_150600000.npy\")"
   ]
  },
  {
   "cell_type": "code",
   "execution_count": 3,
   "metadata": {},
   "outputs": [],
   "source": [
    "photometry = np.load(\"training_data/photometry_150600000.npy\")"
   ]
  },
  {
   "cell_type": "code",
   "execution_count": 4,
   "metadata": {},
   "outputs": [],
   "source": [
    "nsamples = 60000000\n",
    "full_params = sps_parameters[:nsamples, :]\n",
    "full_data = photometry[:nsamples, :]\n",
    "full_redshifts = full_params[:, 0]"
   ]
  },
  {
   "cell_type": "code",
   "execution_count": 5,
   "metadata": {},
   "outputs": [],
   "source": [
    "rmin = 20 #what should this be?\n",
    "rmax = 25 #what should this be?\n",
    "selected_indexes = np.where((full_data[:, 2] > rmin) & (full_data[:, 2] < rmax) )[0]\n",
    "params = full_params[selected_indexes, :]\n",
    "data = full_data[selected_indexes, :]\n",
    "redshifts = full_redshifts[selected_indexes]\n",
    "labels = np.zeros_like(redshifts)"
   ]
  },
  {
   "cell_type": "code",
   "execution_count": 6,
   "metadata": {},
   "outputs": [
    {
     "data": {
      "text/plain": [
       "(array([63173., 61111., 58966., 57451., 55322., 53576., 52245., 50522.,\n",
       "        48792., 47128.]),\n",
       " array([2.50000514, 2.60000442, 2.70000369, 2.80000297, 2.90000225,\n",
       "        3.00000152, 3.1000008 , 3.20000008, 3.29999935, 3.39999863,\n",
       "        3.49999791]),\n",
       " <BarContainer object of 10 artists>)"
      ]
     },
     "execution_count": 6,
     "metadata": {},
     "output_type": "execute_result"
    },
    {
     "data": {
      "image/png": "[encoded data removed]",
      "text/plain": [
       "<Figure size 640x480 with 1 Axes>"
      ]
     },
     "metadata": {},
     "output_type": "display_data"
    }
   ],
   "source": [
    "z_min = 2.5\n",
    "z_max = 3.5\n",
    "u_indexes = np.where((redshifts > z_min) & (redshifts < z_max) )[0]#& (data[:, 0] - data[:, 1] > 0.0))[0]\n",
    "u_params = params[u_indexes, :]\n",
    "u_data = data[u_indexes, :]\n",
    "labels[u_indexes] = 1\n",
    "plt.hist(u_params[:, 0])"
   ]
  },
  {
   "cell_type": "code",
   "execution_count": 7,
   "metadata": {},
   "outputs": [],
   "source": [
    "# calculate colours of a set of photometry\n",
    "def calculate_colours(photometry):\n",
    "    \n",
    "    photo1 = photometry[:,:-1]\n",
    "    photo2 = photometry[:,1:]\n",
    "    colours = photo1 - photo2\n",
    "\n",
    "    return colours"
   ]
  },
  {
   "cell_type": "code",
   "execution_count": 8,
   "metadata": {},
   "outputs": [
    {
     "name": "stdout",
     "output_type": "stream",
     "text": [
      "(5053898, 6)\n"
     ]
    }
   ],
   "source": [
    "#From photometry want to predict label\n",
    "print(data.shape)\n",
    "data = calculate_colours(data)\n",
    "\n",
    "\n",
    "dataset = tf.data.Dataset.from_tensor_slices((data, labels))\n",
    "\n",
    "validation_split = 0.9\n",
    "train_size = int(validation_split * data.shape[0])\n",
    "test_size = data.shape[0] - train_size\n",
    "\n",
    "train_dataset = dataset.take(train_size)\n",
    "test_dataset = dataset.skip(train_size)\n",
    "\n",
    "train_dataset = train_dataset.batch(batch_size=1000)"
   ]
  },
  {
   "cell_type": "code",
   "execution_count": 9,
   "metadata": {},
   "outputs": [
    {
     "name": "stdout",
     "output_type": "stream",
     "text": [
      "Use 10 thread(s) for training\n",
      "Use /var/folders/s9/j1tshp4s5019kbkk8hz2q9840000gn/T/tmpzgm3wcjn as temporary training directory\n",
      "Reading training dataset...\n",
      "Training tensor examples:\n",
      "Features: Tensor(\"data:0\", shape=(None, 5), dtype=float64)\n",
      "Label: Tensor(\"data_1:0\", shape=(None,), dtype=float64)\n",
      "Weights: None\n",
      "Normalized tensor features:\n",
      " {'data:0.0': SemanticTensor(semantic=<Semantic.NUMERICAL: 1>, tensor=<tf.Tensor 'strided_slice:0' shape=(None,) dtype=float32>), 'data:0.1': SemanticTensor(semantic=<Semantic.NUMERICAL: 1>, tensor=<tf.Tensor 'strided_slice_1:0' shape=(None,) dtype=float32>), 'data:0.2': SemanticTensor(semantic=<Semantic.NUMERICAL: 1>, tensor=<tf.Tensor 'strided_slice_2:0' shape=(None,) dtype=float32>), 'data:0.3': SemanticTensor(semantic=<Semantic.NUMERICAL: 1>, tensor=<tf.Tensor 'strided_slice_3:0' shape=(None,) dtype=float32>), 'data:0.4': SemanticTensor(semantic=<Semantic.NUMERICAL: 1>, tensor=<tf.Tensor 'strided_slice_4:0' shape=(None,) dtype=float32>)}\n",
      "Training dataset read in 0:00:09.332763. Found 4548508 examples.\n",
      "Training model...\n",
      "Standard output detected as not visible to the user e.g. running in a notebook. Creating a training log redirection. If training gets stuck, try calling tfdf.keras.set_training_logs_redirection(False).\n",
      "Model trained in 0:11:30.979665\n",
      "Compiling model...\n",
      "Model compiled.\n"
     ]
    },
    {
     "data": {
      "text/plain": [
       "<tf_keras.src.callbacks.History at 0x2de474990>"
      ]
     },
     "execution_count": 9,
     "metadata": {},
     "output_type": "execute_result"
    }
   ],
   "source": [
    "depth = 32\n",
    "model = tfdf.keras.RandomForestModel(max_depth=depth, verbose=2)\n",
    "model.fit(train_dataset)"
   ]
  },
  {
   "cell_type": "code",
   "execution_count": 10,
   "metadata": {},
   "outputs": [
    {
     "name": "stdout",
     "output_type": "stream",
     "text": [
      "INFO:tensorflow:Assets written to: saved_models/test_32_(5053898, 5)/assets\n"
     ]
    },
    {
     "name": "stderr",
     "output_type": "stream",
     "text": [
      "INFO:tensorflow:Assets written to: saved_models/test_32_(5053898, 5)/assets\n"
     ]
    }
   ],
   "source": [
    "model.save(\"saved_models/test_\"+str(depth)+\"_\"+str(data.shape))"
   ]
  },
  {
   "cell_type": "code",
   "execution_count": 11,
   "metadata": {},
   "outputs": [
    {
     "name": "stdout",
     "output_type": "stream",
     "text": [
      "506/506 [==============================] - 217s 418ms/step - loss: 0.0000e+00 - accuracy: 0.9783\n",
      "\n",
      "loss: 0.0000\n",
      "accuracy: 0.9783\n"
     ]
    }
   ],
   "source": [
    "model.compile(metrics=[\"accuracy\"])\n",
    "evaluation = model.evaluate(test_dataset.batch(batch_size=1000), return_dict=True)\n",
    "print()\n",
    "\n",
    "for name, value in evaluation.items():\n",
    "  print(f\"{name}: {value:.4f}\")"
   ]
  },
  {
   "cell_type": "code",
   "execution_count": 12,
   "metadata": {},
   "outputs": [
    {
     "name": "stdout",
     "output_type": "stream",
     "text": [
      "(data:0.0 >= 3.1546854972839355; miss=False, score=0.05114100128412247)\n",
      "    ├─(pos)─ (data:0.2 >= 0.6734066009521484; miss=True, score=0.06984356790781021)\n",
      "    │        ├─(pos)─ (data:0.3 >= 0.3584842085838318; miss=True, score=0.03514435514807701)\n",
      "    │        │        ├─(pos)─ (data:0.4 >= 0.7526491284370422; miss=False, score=0.10614590346813202)\n",
      "    │        │        │    ...\n",
      "    │        │        └─(neg)─ (data:0.3 >= 0.09522329270839691; miss=True, score=0.04977361485362053)\n",
      "    │        │             ...\n",
      "    │        └─(neg)─ (data:0.4 >= 0.11332383751869202; miss=True, score=0.08241007477045059)\n",
      "    │                 ├─(pos)─ (data:0.0 >= 3.880045175552368; miss=False, score=0.02422824315726757)\n",
      "    │                 │    ...\n",
      "    │                 └─(neg)─ (data:0.1 >= 1.3392322063446045; miss=True, score=0.0856805220246315)\n",
      "    │                      ...\n",
      "    └─(neg)─ (data:0.2 >= 0.3997845947742462; miss=True, score=0.03922445699572563)\n",
      "             ├─(pos)─ (data:0.0 >= 2.0360145568847656; miss=False, score=0.005092061124742031)\n",
      "             │        ├─(pos)─ (data:0.3 >= 0.4227770268917084; miss=True, score=0.013485484756529331)\n",
      "             │        │    ...\n",
      "             │        └─(neg)─ (data:0.4 >= 1.1990506649017334; miss=False, score=0.0038309127558022738)\n",
      "             │             ...\n",
      "             └─(neg)─ (data:0.1 >= 0.34421926736831665; miss=True, score=0.025117704644799232)\n",
      "                      ├─(pos)─ (data:0.0 >= 1.5703938007354736; miss=True, score=0.15411223471164703)\n",
      "                      │    ...\n",
      "                      └─(neg)─ (data:0.0 >= 0.6371759176254272; miss=True, score=0.09383010119199753)\n",
      "                           ...\n",
      "\n"
     ]
    }
   ],
   "source": [
    "print(model.make_inspector().extract_tree(1))"
   ]
  },
  {
   "cell_type": "code",
   "execution_count": 13,
   "metadata": {},
   "outputs": [
    {
     "name": "stdout",
     "output_type": "stream",
     "text": [
      "506/506 [==============================] - 215s 418ms/step\n"
     ]
    }
   ],
   "source": [
    "predicted_labels = model.predict(test_dataset.batch(batch_size=1000))"
   ]
  },
  {
   "cell_type": "code",
   "execution_count": 14,
   "metadata": {},
   "outputs": [
    {
     "data": {
      "text/plain": [
       "1.0"
      ]
     },
     "execution_count": 14,
     "metadata": {},
     "output_type": "execute_result"
    }
   ],
   "source": [
    "predicted_labels[:, 0].max()"
   ]
  },
  {
   "cell_type": "code",
   "execution_count": 23,
   "metadata": {},
   "outputs": [
    {
     "name": "stdout",
     "output_type": "stream",
     "text": [
      "tf.Tensor(\n",
      "[[446452   4185]\n",
      " [  6762  47991]], shape=(2, 2), dtype=int32)\n",
      "efficency(%):  87.64999178127226\n",
      "purity(%):  91.9790708371665\n",
      "interloper fraction(%):  1.2879484820607177\n"
     ]
    },
    {
     "data": {
      "image/png": "[encoded data removed]",
      "text/plain": [
       "<Figure size 640x480 with 1 Axes>"
      ]
     },
     "metadata": {},
     "output_type": "display_data"
    }
   ],
   "source": [
    "confidence_level = 0.5 #hyperparameter(ideal value depends on survey size? The larger your initial set of galaxies, the lower your efficency can be)\n",
    "predictions = predicted_labels[:, 0]\n",
    "predicted_labels_at_confidence = np.where(predictions > confidence_level, 1.0, 0.0)\n",
    "cmatrix = tf.math.confusion_matrix(labels[train_size:], predicted_labels_at_confidence)\n",
    "\n",
    "print(cmatrix)\n",
    "# TN FP\n",
    "# FN TP\n",
    "\n",
    "z_bins = np.linspace(0.0, 7.0, 70)\n",
    "\n",
    "test_set_redshifts = redshifts[train_size:]\n",
    "test_set_lbgs = test_set_redshifts[np.where((test_set_redshifts > 2.5) & (test_set_redshifts < 3.5) )[0]]\n",
    "\n",
    "selected_lbgs = test_set_redshifts[np.where(predicted_labels_at_confidence == 1.0)[0]]\n",
    "\n",
    "plt.hist(test_set_lbgs, bins=z_bins, label=\"True LBGs\", density=True, alpha=0.5)\n",
    "plt.hist(selected_lbgs, bins=z_bins, label=\"Selected LBGs\", density=True, alpha=0.5)\n",
    "plt.legend()\n",
    "\n",
    "ninterlopers =  (np.where(selected_lbgs < 1.5)[0]).shape[0]\n",
    "\n",
    "print(\"efficency(%): \", float(((cmatrix[1, 1])/test_set_lbgs.shape[0])*100))\n",
    "print(\"purity(%): \", float((cmatrix[1, 1]/(cmatrix[0,1]+cmatrix[1, 1]))*100)) #of all positives - which are truly lbgs?\n",
    "print(\"interloper fraction(%): \", (ninterlopers/selected_lbgs.shape[0])*100) "
   ]
  },
  {
   "cell_type": "code",
   "execution_count": 24,
   "metadata": {},
   "outputs": [
    {
     "data": {
      "text/plain": [
       "<matplotlib.legend.Legend at 0x9915f79d0>"
      ]
     },
     "execution_count": 24,
     "metadata": {},
     "output_type": "execute_result"
    },
    {
     "data": {
      "image/png": "[encoded data removed]",
      "text/plain": [
       "<Figure size 640x480 with 1 Axes>"
      ]
     },
     "metadata": {},
     "output_type": "display_data"
    }
   ],
   "source": [
    "data_test = data[train_size:]\n",
    "umg = data_test[:, 0]\n",
    "gmr = data_test[:, 1]\n",
    "selected_lbgs_trad = test_set_redshifts[np.where((gmr > -1.0) & (gmr < 1.2) & (umg > 0.75 + 1.5*gmr))[0]]\n",
    "plt.hist(test_set_lbgs, bins=z_bins, label=\"True LBGs\", density=True, alpha=0.5)\n",
    "plt.hist(selected_lbgs, bins=z_bins, label=\"Selected LBGs\", density=True, alpha=0.5)\n",
    "plt.hist(selected_lbgs_trad, bins=z_bins, label=\"CARS LBG Cut\", density=True, alpha=0.5)\n",
    "plt.legend()"
   ]
  }
 ],
 "metadata": {
  "kernelspec": {
   "display_name": "tensorflow",
   "language": "python",
   "name": "tf_env"
  },
  "language_info": {
   "codemirror_mode": {
    "name": "ipython",
    "version": 3
   },
   "file_extension": ".py",
   "mimetype": "text/x-python",
   "name": "python",
   "nbconvert_exporter": "python",
   "pygments_lexer": "ipython3",
   "version": "3.11.9"
  }
 },
 "nbformat": 4,
 "nbformat_minor": 2
}
