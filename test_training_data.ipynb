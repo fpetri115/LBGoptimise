{
 "cells": [
  {
   "cell_type": "code",
   "execution_count": 1,
   "metadata": {},
   "outputs": [],
   "source": [
    "import numpy as np\n",
    "import matplotlib.pyplot as plt\n",
    "import pandas as pd\n",
    "import tensorflow as tf\n",
    "import tensorflow_decision_forests as tfdf\n"
   ]
  },
  {
   "cell_type": "code",
   "execution_count": 2,
   "metadata": {},
   "outputs": [],
   "source": [
    "sps_parameters = np.load(\"training_data/sps_parameters_150600000.npy\")"
   ]
  },
  {
   "cell_type": "code",
   "execution_count": 3,
   "metadata": {},
   "outputs": [],
   "source": [
    "photometry = np.load(\"training_data/photometry_150600000.npy\")"
   ]
  },
  {
   "cell_type": "code",
   "execution_count": 4,
   "metadata": {},
   "outputs": [],
   "source": [
    "nsamples = 50000000\n",
    "full_params = sps_parameters[:nsamples, :]\n",
    "full_data = photometry[:nsamples, :]\n",
    "full_redshifts = full_params[:, 0]"
   ]
  },
  {
   "cell_type": "code",
   "execution_count": 5,
   "metadata": {},
   "outputs": [],
   "source": [
    "rmin = 20 #what should this be?\n",
    "rmax = 25 #what should this be?\n",
    "selected_indexes = np.where((full_data[:, 2] > rmin) & (full_data[:, 2] < rmax) )[0]\n",
    "params = full_params[selected_indexes, :]\n",
    "data = full_data[selected_indexes, :]\n",
    "redshifts = full_redshifts[selected_indexes]\n",
    "labels = np.zeros_like(redshifts)"
   ]
  },
  {
   "cell_type": "code",
   "execution_count": 6,
   "metadata": {},
   "outputs": [
    {
     "data": {
      "text/plain": [
       "(array([52655., 50967., 49124., 47800., 46138., 44659., 43396., 42274.,\n",
       "        40684., 39478.]),\n",
       " array([2.50000514, 2.60000442, 2.70000369, 2.80000297, 2.90000225,\n",
       "        3.00000152, 3.1000008 , 3.20000008, 3.29999935, 3.39999863,\n",
       "        3.49999791]),\n",
       " <BarContainer object of 10 artists>)"
      ]
     },
     "execution_count": 6,
     "metadata": {},
     "output_type": "execute_result"
    },
    {
     "data": {
      "image/png": "[encoded data removed]",
      "text/plain": [
       "<Figure size 640x480 with 1 Axes>"
      ]
     },
     "metadata": {},
     "output_type": "display_data"
    }
   ],
   "source": [
    "z_min = 2.5\n",
    "z_max = 3.5\n",
    "u_indexes = np.where((redshifts > z_min) & (redshifts < z_max) )[0]#& (data[:, 0] - data[:, 1] > 0.0))[0]\n",
    "u_params = params[u_indexes, :]\n",
    "u_data = data[u_indexes, :]\n",
    "labels[u_indexes] = 1\n",
    "plt.hist(u_params[:, 0])"
   ]
  },
  {
   "cell_type": "code",
   "execution_count": 7,
   "metadata": {},
   "outputs": [],
   "source": [
    "# calculate colours of a set of photometry\n",
    "def calculate_colours(photometry):\n",
    "    \n",
    "    photo1 = photometry[:,:-1]\n",
    "    photo2 = photometry[:,1:]\n",
    "    colours = photo1 - photo2\n",
    "\n",
    "    return colours"
   ]
  },
  {
   "cell_type": "code",
   "execution_count": 8,
   "metadata": {},
   "outputs": [
    {
     "name": "stdout",
     "output_type": "stream",
     "text": [
      "(4211730, 6)\n"
     ]
    }
   ],
   "source": [
    "#From photometry want to predict label\n",
    "print(data.shape)\n",
    "features = calculate_colours(data)\n",
    "\n",
    "\n",
    "dataset = tf.data.Dataset.from_tensor_slices((data, labels))\n",
    "\n",
    "validation_split = 0.9\n",
    "train_size = int(validation_split * data.shape[0])\n",
    "test_size = data.shape[0] - train_size\n",
    "\n",
    "train_dataset = dataset.take(train_size)\n",
    "test_dataset = dataset.skip(train_size)\n",
    "\n",
    "train_dataset = train_dataset.batch(batch_size=1000)"
   ]
  },
  {
   "cell_type": "code",
   "execution_count": 9,
   "metadata": {},
   "outputs": [
    {
     "name": "stdout",
     "output_type": "stream",
     "text": [
      "Use 10 thread(s) for training\n",
      "Use /var/folders/s9/j1tshp4s5019kbkk8hz2q9840000gn/T/tmpsu9s2yxj as temporary training directory\n",
      "Reading training dataset...\n",
      "Training tensor examples:\n",
      "Features: Tensor(\"data:0\", shape=(None, 6), dtype=float64)\n",
      "Label: Tensor(\"data_1:0\", shape=(None,), dtype=float64)\n",
      "Weights: None\n",
      "Normalized tensor features:\n",
      " {'data:0.0': SemanticTensor(semantic=<Semantic.NUMERICAL: 1>, tensor=<tf.Tensor 'strided_slice:0' shape=(None,) dtype=float32>), 'data:0.1': SemanticTensor(semantic=<Semantic.NUMERICAL: 1>, tensor=<tf.Tensor 'strided_slice_1:0' shape=(None,) dtype=float32>), 'data:0.2': SemanticTensor(semantic=<Semantic.NUMERICAL: 1>, tensor=<tf.Tensor 'strided_slice_2:0' shape=(None,) dtype=float32>), 'data:0.3': SemanticTensor(semantic=<Semantic.NUMERICAL: 1>, tensor=<tf.Tensor 'strided_slice_3:0' shape=(None,) dtype=float32>), 'data:0.4': SemanticTensor(semantic=<Semantic.NUMERICAL: 1>, tensor=<tf.Tensor 'strided_slice_4:0' shape=(None,) dtype=float32>), 'data:0.5': SemanticTensor(semantic=<Semantic.NUMERICAL: 1>, tensor=<tf.Tensor 'strided_slice_5:0' shape=(None,) dtype=float32>)}\n",
      "Training dataset read in 0:00:08.204736. Found 3790557 examples.\n",
      "Training model...\n",
      "Standard output detected as not visible to the user e.g. running in a notebook. Creating a training log redirection. If training gets stuck, try calling tfdf.keras.set_training_logs_redirection(False).\n",
      "Model trained in 0:10:53.180938\n",
      "Compiling model...\n",
      "Model compiled.\n"
     ]
    },
    {
     "data": {
      "text/plain": [
       "<tf_keras.src.callbacks.History at 0x2d680ee90>"
      ]
     },
     "execution_count": 9,
     "metadata": {},
     "output_type": "execute_result"
    }
   ],
   "source": [
    "depth = 32\n",
    "model = tfdf.keras.RandomForestModel(max_depth=depth, verbose=2)\n",
    "model.fit(train_dataset)"
   ]
  },
  {
   "cell_type": "code",
   "execution_count": 10,
   "metadata": {},
   "outputs": [
    {
     "name": "stdout",
     "output_type": "stream",
     "text": [
      "INFO:tensorflow:Assets written to: saved_models/test_32_(4211730, 6)/assets\n"
     ]
    },
    {
     "name": "stderr",
     "output_type": "stream",
     "text": [
      "INFO:tensorflow:Assets written to: saved_models/test_32_(4211730, 6)/assets\n"
     ]
    }
   ],
   "source": [
    "model.save(\"saved_models/test_\"+str(depth)+\"_\"+str(data.shape))"
   ]
  },
  {
   "cell_type": "code",
   "execution_count": 11,
   "metadata": {},
   "outputs": [
    {
     "name": "stdout",
     "output_type": "stream",
     "text": [
      "422/422 [==============================] - 749s 2s/step - loss: 0.0000e+00 - accuracy: 0.9668\n",
      "\n",
      "loss: 0.0000\n",
      "accuracy: 0.9668\n"
     ]
    }
   ],
   "source": [
    "model.compile(metrics=[\"accuracy\"])\n",
    "evaluation = model.evaluate(test_dataset.batch(batch_size=1000), return_dict=True)\n",
    "print()\n",
    "\n",
    "for name, value in evaluation.items():\n",
    "  print(f\"{name}: {value:.4f}\")"
   ]
  },
  {
   "cell_type": "code",
   "execution_count": 12,
   "metadata": {},
   "outputs": [
    {
     "name": "stdout",
     "output_type": "stream",
     "text": [
      "(data:0.4 >= 19.89751434326172; miss=True, score=0.017418067902326584)\n",
      "    ├─(pos)─ (data:0.4 >= 22.70750617980957; miss=False, score=0.01073335949331522)\n",
      "    │        ├─(pos)─ (data:0.4 >= 23.651187896728516; miss=False, score=0.006807995494455099)\n",
      "    │        │        ├─(pos)─ (data:0.0 >= 26.702442169189453; miss=False, score=0.07609883695840836)\n",
      "    │        │        │    ...\n",
      "    │        │        └─(neg)─ (data:0.0 >= 27.684152603149414; miss=False, score=0.02077239379286766)\n",
      "    │        │             ...\n",
      "    │        └─(neg)─ (data:0.2 >= 23.14194107055664; miss=False, score=0.013804690912365913)\n",
      "    │                 ├─(pos)─ (data:0.0 >= 28.90287971496582; miss=False, score=0.013035417534410954)\n",
      "    │                 │    ...\n",
      "    │                 └─(neg)─ (data:0.0 >= 24.679447174072266; miss=True, score=0.009929235093295574)\n",
      "    │                      ...\n",
      "    └─(neg)─ (data:0.4 >= 19.27750015258789; miss=True, score=0.006543440744280815)\n",
      "             ├─(pos)─ (data:0.2 >= 20.73661994934082; miss=True, score=0.0184212327003479)\n",
      "             │        ├─(pos)─ (data:0.2 >= 21.336692810058594; miss=True, score=0.0029712021350860596)\n",
      "             │        │    ...\n",
      "             │        └─(neg)─ (data:0.2 >= 20.273670196533203; miss=True, score=0.008937417529523373)\n",
      "             │             ...\n",
      "             └─(neg)─ (data:0.4 >= 18.64283561706543; miss=True, score=0.0015711075393483043)\n",
      "                      ├─(pos)─ (data:0.1 >= 25.735557556152344; miss=False, score=0.0013252104399725795)\n",
      "                      │    ...\n",
      "                      └─(neg)─ (data:0.0 >= 25.435976028442383; miss=True, score=0.0007975790067575872)\n",
      "                           ...\n",
      "\n"
     ]
    }
   ],
   "source": [
    "print(model.make_inspector().extract_tree(1))"
   ]
  },
  {
   "cell_type": "code",
   "execution_count": 13,
   "metadata": {},
   "outputs": [
    {
     "name": "stdout",
     "output_type": "stream",
     "text": [
      "422/422 [==============================] - 722s 2s/step\n"
     ]
    }
   ],
   "source": [
    "predicted_labels = model.predict(test_dataset.batch(batch_size=1000))"
   ]
  },
  {
   "cell_type": "code",
   "execution_count": 14,
   "metadata": {},
   "outputs": [
    {
     "data": {
      "text/plain": [
       "1.0"
      ]
     },
     "execution_count": 14,
     "metadata": {},
     "output_type": "execute_result"
    }
   ],
   "source": [
    "predicted_labels[:, 0].max()"
   ]
  },
  {
   "cell_type": "code",
   "execution_count": 19,
   "metadata": {},
   "outputs": [
    {
     "name": "stdout",
     "output_type": "stream",
     "text": [
      "tf.Tensor(\n",
      "[[371631   4380]\n",
      " [  9608  35554]], shape=(2, 2), dtype=int32)\n",
      "efficency(%):  78.72547717107302\n",
      "purity(%):  89.03190263935493\n",
      "interloper fraction(%):  1.8505534131316674\n"
     ]
    },
    {
     "data": {
      "image/png": "[encoded data removed]",
      "text/plain": [
       "<Figure size 640x480 with 1 Axes>"
      ]
     },
     "metadata": {},
     "output_type": "display_data"
    }
   ],
   "source": [
    "confidence_level = 0.5 #hyperparameter(ideal value depends on survey size? The larger your initial set of galaxies, the lower your efficency can be)\n",
    "predictions = predicted_labels[:, 0]\n",
    "predicted_labels_at_confidence = np.where(predictions > confidence_level, 1.0, 0.0)\n",
    "cmatrix = tf.math.confusion_matrix(labels[train_size:], predicted_labels_at_confidence)\n",
    "\n",
    "print(cmatrix)\n",
    "# TN FP\n",
    "# FN TP\n",
    "\n",
    "z_bins = np.linspace(0.0, 7.0, 70)\n",
    "\n",
    "test_set_redshifts = redshifts[train_size:]\n",
    "test_set_lbgs = test_set_redshifts[np.where((test_set_redshifts > 2.5) & (test_set_redshifts < 3.5) )[0]]\n",
    "\n",
    "selected_lbgs = test_set_redshifts[np.where(predicted_labels_at_confidence == 1.0)[0]]\n",
    "\n",
    "plt.hist(test_set_lbgs, bins=z_bins, label=\"True LBGs\", density=True, alpha=0.75)\n",
    "plt.hist(selected_lbgs, bins=z_bins, label=\"Selected LBGs\", density=True, alpha=0.75)\n",
    "plt.legend()\n",
    "\n",
    "ninterlopers =  (np.where(selected_lbgs < 1.5)[0]).shape[0]\n",
    "\n",
    "print(\"efficency(%): \", float(((cmatrix[1, 1])/test_set_lbgs.shape[0])*100))\n",
    "print(\"purity(%): \", float((cmatrix[1, 1]/(cmatrix[0,1]+cmatrix[1, 1]))*100)) #of all positives - which are truly lbgs?\n",
    "print(\"interloper fraction(%): \", (ninterlopers/selected_lbgs.shape[0])*100) "
   ]
  }
 ],
 "metadata": {
  "kernelspec": {
   "display_name": "tensorflow",
   "language": "python",
   "name": "tf_env"
  },
  "language_info": {
   "codemirror_mode": {
    "name": "ipython",
    "version": 3
   },
   "file_extension": ".py",
   "mimetype": "text/x-python",
   "name": "python",
   "nbconvert_exporter": "python",
   "pygments_lexer": "ipython3",
   "version": "3.11.9"
  }
 },
 "nbformat": 4,
 "nbformat_minor": 2
}
