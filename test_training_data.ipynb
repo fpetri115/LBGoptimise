{
 "cells": [
  {
   "cell_type": "code",
   "execution_count": 1,
   "metadata": {},
   "outputs": [],
   "source": [
    "import numpy as np\n",
    "import matplotlib.pyplot as plt\n",
    "import pandas as pd\n",
    "import tensorflow as tf\n",
    "import tensorflow_decision_forests as tfdf\n"
   ]
  },
  {
   "cell_type": "code",
   "execution_count": 2,
   "metadata": {},
   "outputs": [],
   "source": [
    "sps_parameters = np.load(\"training_data/sps_parameters_150600000.npy\")"
   ]
  },
  {
   "cell_type": "code",
   "execution_count": 3,
   "metadata": {},
   "outputs": [],
   "source": [
    "photometry = np.load(\"training_data/photometry_150600000.npy\")"
   ]
  },
  {
   "cell_type": "code",
   "execution_count": 26,
   "metadata": {},
   "outputs": [],
   "source": [
    "nsamples = 1000000\n",
    "full_params = sps_parameters[:nsamples, :]\n",
    "full_data = photometry[:nsamples, :]\n",
    "full_redshifts = full_params[:, 0]"
   ]
  },
  {
   "cell_type": "code",
   "execution_count": 27,
   "metadata": {},
   "outputs": [],
   "source": [
    "rmin = 20 #what should this be?\n",
    "rmax = 25 #what should this be?\n",
    "selected_indexes = np.where((full_data[:, 2] > rmin) & (full_data[:, 2] < rmax) )[0]\n",
    "params = full_params[selected_indexes, :]\n",
    "data = full_data[selected_indexes, :]\n",
    "redshifts = full_redshifts[selected_indexes]\n",
    "labels = np.zeros_like(redshifts)"
   ]
  },
  {
   "cell_type": "code",
   "execution_count": 28,
   "metadata": {},
   "outputs": [
    {
     "data": {
      "text/plain": [
       "(array([1033., 1028.,  958.,  991.,  931.,  871.,  872.,  858.,  753.,\n",
       "         776.]),\n",
       " array([2.50013786, 2.60010843, 2.700079  , 2.80004958, 2.90002015,\n",
       "        2.99999072, 3.09996129, 3.19993186, 3.29990244, 3.39987301,\n",
       "        3.49984358]),\n",
       " <BarContainer object of 10 artists>)"
      ]
     },
     "execution_count": 28,
     "metadata": {},
     "output_type": "execute_result"
    },
    {
     "data": {
      "image/png": "[encoded data removed]",
      "text/plain": [
       "<Figure size 640x480 with 1 Axes>"
      ]
     },
     "metadata": {},
     "output_type": "display_data"
    }
   ],
   "source": [
    "z_min = 2.5\n",
    "z_max = 3.5\n",
    "u_indexes = np.where((redshifts > z_min) & (redshifts < z_max) )[0]#& (data[:, 0] - data[:, 1] > 0.0))[0]\n",
    "u_params = params[u_indexes, :]\n",
    "u_data = data[u_indexes, :]\n",
    "labels[u_indexes] = 1\n",
    "plt.hist(u_params[:, 0])"
   ]
  },
  {
   "cell_type": "code",
   "execution_count": 29,
   "metadata": {},
   "outputs": [],
   "source": [
    "# calculate colours of a set of photometry\n",
    "def calculate_colours(photometry):\n",
    "    \n",
    "    photo1 = photometry[:,:-1]\n",
    "    photo2 = photometry[:,1:]\n",
    "    colours = photo1 - photo2\n",
    "\n",
    "    return colours"
   ]
  },
  {
   "cell_type": "code",
   "execution_count": 31,
   "metadata": {},
   "outputs": [
    {
     "name": "stdout",
     "output_type": "stream",
     "text": [
      "(84125, 6)\n"
     ]
    }
   ],
   "source": [
    "#From photometry want to predict label\n",
    "print(data.shape)\n",
    "features = calculate_colours(data)\n",
    "\n",
    "\n",
    "dataset = tf.data.Dataset.from_tensor_slices((data, labels))\n",
    "\n",
    "validation_split = 0.9\n",
    "train_size = int(validation_split * data.shape[0])\n",
    "test_size = data.shape[0] - train_size\n",
    "\n",
    "train_dataset = dataset.take(train_size)\n",
    "test_dataset = dataset.skip(train_size)\n",
    "\n",
    "train_dataset = train_dataset.batch(batch_size=1000)"
   ]
  },
  {
   "cell_type": "code",
   "execution_count": 32,
   "metadata": {},
   "outputs": [
    {
     "name": "stdout",
     "output_type": "stream",
     "text": [
      "Use 10 thread(s) for training\n",
      "Use /var/folders/s9/j1tshp4s5019kbkk8hz2q9840000gn/T/tmphno8_0k2 as temporary training directory\n",
      "Reading training dataset...\n",
      "Training tensor examples:\n",
      "Features: Tensor(\"data:0\", shape=(None, 6), dtype=float64)\n",
      "Label: Tensor(\"data_1:0\", shape=(None,), dtype=float64)\n",
      "Weights: None\n",
      "Normalized tensor features:\n",
      " {'data:0.0': SemanticTensor(semantic=<Semantic.NUMERICAL: 1>, tensor=<tf.Tensor 'strided_slice:0' shape=(None,) dtype=float32>), 'data:0.1': SemanticTensor(semantic=<Semantic.NUMERICAL: 1>, tensor=<tf.Tensor 'strided_slice_1:0' shape=(None,) dtype=float32>), 'data:0.2': SemanticTensor(semantic=<Semantic.NUMERICAL: 1>, tensor=<tf.Tensor 'strided_slice_2:0' shape=(None,) dtype=float32>), 'data:0.3': SemanticTensor(semantic=<Semantic.NUMERICAL: 1>, tensor=<tf.Tensor 'strided_slice_3:0' shape=(None,) dtype=float32>), 'data:0.4': SemanticTensor(semantic=<Semantic.NUMERICAL: 1>, tensor=<tf.Tensor 'strided_slice_4:0' shape=(None,) dtype=float32>), 'data:0.5': SemanticTensor(semantic=<Semantic.NUMERICAL: 1>, tensor=<tf.Tensor 'strided_slice_5:0' shape=(None,) dtype=float32>)}\n",
      "Training dataset read in 0:00:00.273733. Found 75712 examples.\n",
      "Training model...\n",
      "Model trained in 0:00:07.184248\n",
      "Compiling model...\n",
      "Model compiled.\n"
     ]
    },
    {
     "data": {
      "text/plain": [
       "<tf_keras.src.callbacks.History at 0x95a757390>"
      ]
     },
     "execution_count": 32,
     "metadata": {},
     "output_type": "execute_result"
    }
   ],
   "source": [
    "depth = 32\n",
    "model = tfdf.keras.RandomForestModel(max_depth=depth, verbose=2)\n",
    "model.fit(train_dataset)"
   ]
  },
  {
   "cell_type": "code",
   "execution_count": 33,
   "metadata": {},
   "outputs": [
    {
     "name": "stdout",
     "output_type": "stream",
     "text": [
      "INFO:tensorflow:Assets written to: saved_models/test_32_(84125, 6)/assets\n"
     ]
    },
    {
     "name": "stderr",
     "output_type": "stream",
     "text": [
      "INFO:tensorflow:Assets written to: saved_models/test_32_(84125, 6)/assets\n"
     ]
    }
   ],
   "source": [
    "model.save(\"saved_models/test_\"+str(depth)+\"_\"+str(data.shape))"
   ]
  },
  {
   "cell_type": "code",
   "execution_count": 34,
   "metadata": {},
   "outputs": [
    {
     "name": "stdout",
     "output_type": "stream",
     "text": [
      "9/9 [==============================] - 2s 35ms/step - loss: 0.0000e+00 - accuracy: 0.9522\n",
      "\n",
      "loss: 0.0000\n",
      "accuracy: 0.9522\n"
     ]
    }
   ],
   "source": [
    "model.compile(metrics=[\"accuracy\"])\n",
    "evaluation = model.evaluate(test_dataset.batch(batch_size=1000), return_dict=True)\n",
    "print()\n",
    "\n",
    "for name, value in evaluation.items():\n",
    "  print(f\"{name}: {value:.4f}\")"
   ]
  },
  {
   "cell_type": "code",
   "execution_count": 35,
   "metadata": {},
   "outputs": [
    {
     "name": "stdout",
     "output_type": "stream",
     "text": [
      "(data:0.5 >= 19.915264129638672; miss=True, score=0.017638662829995155)\n",
      "    ├─(pos)─ (data:0.5 >= 22.69759750366211; miss=False, score=0.008688759990036488)\n",
      "    │        ├─(pos)─ (data:0.4 >= 23.757461547851562; miss=False, score=0.008429576642811298)\n",
      "    │        │        ├─(pos)─ (data:0.0 >= 26.369571685791016; miss=False, score=0.09155621379613876)\n",
      "    │        │        │    ...\n",
      "    │        │        └─(neg)─ (data:0.2 >= 24.135465621948242; miss=False, score=0.021737180650234222)\n",
      "    │        │             ...\n",
      "    │        └─(neg)─ (data:0.1 >= 24.486223220825195; miss=True, score=0.008114888332784176)\n",
      "    │                 ├─(pos)─ (data:0.4 >= 21.92107391357422; miss=False, score=0.014788725413382053)\n",
      "    │                 │    ...\n",
      "    │                 └─(neg)─ (data:0.0 >= 25.858238220214844; miss=True, score=0.033135708421468735)\n",
      "    │                      ...\n",
      "    └─(neg)─ (data:0.4 >= 19.359893798828125; miss=True, score=0.009121759794652462)\n",
      "             ├─(pos)─ (data:0.2 >= 20.773317337036133; miss=True, score=0.01560608297586441)\n",
      "             │        ├─(pos)─ (data:0.3 >= 22.4863224029541; miss=False, score=0.004449849016964436)\n",
      "             │        │    ...\n",
      "             │        └─(neg)─ (data:0.0 >= 23.856281280517578; miss=True, score=0.048302553594112396)\n",
      "             │             ...\n",
      "             └─(neg)─ (data:0.2 >= 21.85594940185547; miss=True, score=0.0017008444992825389)\n",
      "                      ├─(pos)─ ProbabilityValue([1.0, 0.0],n=2537.0) (idx=40)\n",
      "                      └─(neg)─ (data:0.0 >= 26.12478256225586; miss=True, score=0.003003593534231186)\n",
      "                           ...\n",
      "\n"
     ]
    }
   ],
   "source": [
    "print(model.make_inspector().extract_tree(1))"
   ]
  },
  {
   "cell_type": "code",
   "execution_count": 36,
   "metadata": {},
   "outputs": [
    {
     "name": "stdout",
     "output_type": "stream",
     "text": [
      "9/9 [==============================] - 0s 31ms/step\n"
     ]
    }
   ],
   "source": [
    "predicted_labels = model.predict(test_dataset.batch(batch_size=1000))"
   ]
  },
  {
   "cell_type": "code",
   "execution_count": 37,
   "metadata": {},
   "outputs": [
    {
     "data": {
      "text/plain": [
       "0.99999917"
      ]
     },
     "execution_count": 37,
     "metadata": {},
     "output_type": "execute_result"
    }
   ],
   "source": [
    "predicted_labels[:, 0].max()"
   ]
  },
  {
   "cell_type": "code",
   "execution_count": 49,
   "metadata": {},
   "outputs": [
    {
     "name": "stdout",
     "output_type": "stream",
     "text": [
      "tf.Tensor(\n",
      "[[7541    1]\n",
      " [ 748  123]], shape=(2, 2), dtype=int32)\n",
      "efficency(%):  14.121699196326063\n",
      "purity(%):  99.19354838709677\n",
      "interloper fraction(%):  0.0\n"
     ]
    },
    {
     "data": {
      "image/png": "[encoded data removed]",
      "text/plain": [
       "<Figure size 640x480 with 1 Axes>"
      ]
     },
     "metadata": {},
     "output_type": "display_data"
    }
   ],
   "source": [
    "confidence_level = 0.95 #hyperparameter(ideal value depends on survey size? The larger your initial set of galaxies, the lower your efficency can be)\n",
    "predictions = predicted_labels[:, 0]\n",
    "predicted_labels_at_confidence = np.where(predictions > confidence_level, 1.0, 0.0)\n",
    "cmatrix = tf.math.confusion_matrix(labels[train_size:], predicted_labels_at_confidence)\n",
    "\n",
    "print(cmatrix)\n",
    "# TN FP\n",
    "# FN TP\n",
    "\n",
    "z_bins = np.linspace(0.0, 7.0, 70)\n",
    "\n",
    "test_set_redshifts = redshifts[train_size:]\n",
    "test_set_lbgs = test_set_redshifts[np.where((test_set_redshifts > 2.5) & (test_set_redshifts < 3.5) )[0]]\n",
    "\n",
    "selected_lbgs = test_set_redshifts[np.where(predicted_labels_at_confidence == 1.0)[0]]\n",
    "\n",
    "plt.hist(test_set_lbgs, bins=z_bins, label=\"True LBGs\", density=True, alpha=0.75)\n",
    "plt.hist(selected_lbgs, bins=z_bins, label=\"Selected LBGs\", density=True, alpha=0.75)\n",
    "plt.legend()\n",
    "\n",
    "ninterlopers =  (np.where(selected_lbgs < 1.5)[0]).shape[0]\n",
    "\n",
    "print(\"efficency(%): \", float(((cmatrix[1, 1])/test_set_lbgs.shape[0])*100))\n",
    "print(\"purity(%): \", float((cmatrix[1, 1]/(cmatrix[0,1]+cmatrix[1, 1]))*100)) #of all positives - which are truly lbgs?\n",
    "print(\"interloper fraction(%): \", (ninterlopers/selected_lbgs.shape[0])*100) #of all positives - which are truly lbgs?"
   ]
  }
 ],
 "metadata": {
  "kernelspec": {
   "display_name": "tensorflow",
   "language": "python",
   "name": "tf_env"
  },
  "language_info": {
   "codemirror_mode": {
    "name": "ipython",
    "version": 3
   },
   "file_extension": ".py",
   "mimetype": "text/x-python",
   "name": "python",
   "nbconvert_exporter": "python",
   "pygments_lexer": "ipython3",
   "version": "3.11.9"
  }
 },
 "nbformat": 4,
 "nbformat_minor": 2
}
