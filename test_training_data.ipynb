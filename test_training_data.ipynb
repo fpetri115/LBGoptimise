{
 "cells": [
  {
   "cell_type": "code",
   "execution_count": 1,
   "metadata": {},
   "outputs": [],
   "source": [
    "import numpy as np\n",
    "import matplotlib.pyplot as plt\n",
    "import pandas as pd\n",
    "import tensorflow as tf\n",
    "import tensorflow_decision_forests as tfdf\n"
   ]
  },
  {
   "cell_type": "code",
   "execution_count": 2,
   "metadata": {},
   "outputs": [],
   "source": [
    "sps_parameters = np.load(\"training_data/sps_parameters_150600000.npy\")"
   ]
  },
  {
   "cell_type": "code",
   "execution_count": 3,
   "metadata": {},
   "outputs": [],
   "source": [
    "photometry = np.load(\"training_data/photometry_150600000.npy\")"
   ]
  },
  {
   "cell_type": "code",
   "execution_count": 4,
   "metadata": {},
   "outputs": [],
   "source": [
    "nsamples = 1000000\n",
    "params = sps_parameters[:nsamples, :]\n",
    "data = photometry[:nsamples, :]\n",
    "redshifts = params[:, 0]\n",
    "labels = np.zeros_like(redshifts)"
   ]
  },
  {
   "cell_type": "code",
   "execution_count": 5,
   "metadata": {},
   "outputs": [
    {
     "data": {
      "text/plain": [
       "(array([14206., 14379., 14209., 14359., 14419., 14167., 14458., 14231.,\n",
       "        14042., 14353.]),\n",
       " array([2.50000374, 2.60000312, 2.7000025 , 2.80000188, 2.90000126,\n",
       "        3.00000064, 3.10000002, 3.19999939, 3.29999877, 3.39999815,\n",
       "        3.49999753]),\n",
       " <BarContainer object of 10 artists>)"
      ]
     },
     "execution_count": 5,
     "metadata": {},
     "output_type": "execute_result"
    },
    {
     "data": {
      "image/png": "[encoded data removed]",
      "text/plain": [
       "<Figure size 640x480 with 1 Axes>"
      ]
     },
     "metadata": {},
     "output_type": "display_data"
    }
   ],
   "source": [
    "u_indexes = np.where((redshifts > 2.5) & (redshifts < 3.5) )[0]#& (data[:, 0] - data[:, 1] > 0.0))[0]\n",
    "u_params = params[u_indexes, :]\n",
    "u_data = data[u_indexes, :]\n",
    "labels[u_indexes] = 1\n",
    "plt.hist(u_params[:, 0])"
   ]
  },
  {
   "cell_type": "code",
   "execution_count": 6,
   "metadata": {},
   "outputs": [],
   "source": [
    "# calculate colours of a set of photometry\n",
    "def calculate_colours(photometry):\n",
    "    \n",
    "    photo1 = photometry[:,:-1]\n",
    "    photo2 = photometry[:,1:]\n",
    "    colours = photo1 - photo2\n",
    "\n",
    "    return colours"
   ]
  },
  {
   "cell_type": "code",
   "execution_count": 7,
   "metadata": {},
   "outputs": [
    {
     "name": "stdout",
     "output_type": "stream",
     "text": [
      "(1000000, 6)\n"
     ]
    }
   ],
   "source": [
    "#From photometry want to predict label\n",
    "print(data.shape)\n",
    "features = calculate_colours(data)\n",
    "\n",
    "\n",
    "dataset = tf.data.Dataset.from_tensor_slices((data, labels))\n",
    "\n",
    "validation_split = 0.9\n",
    "train_size = int(validation_split * nsamples)\n",
    "test_size = nsamples - train_size\n",
    "\n",
    "train_dataset = dataset.take(train_size)\n",
    "test_dataset = dataset.skip(train_size)\n",
    "\n",
    "train_dataset = train_dataset.batch(batch_size=1000)"
   ]
  },
  {
   "cell_type": "code",
   "execution_count": 8,
   "metadata": {},
   "outputs": [
    {
     "name": "stdout",
     "output_type": "stream",
     "text": [
      "Use 10 thread(s) for training\n",
      "Use /var/folders/s9/j1tshp4s5019kbkk8hz2q9840000gn/T/tmpn4ubwo1p as temporary training directory\n",
      "Reading training dataset...\n",
      "Training tensor examples:\n",
      "Features: Tensor(\"data:0\", shape=(None, 6), dtype=float64)\n",
      "Label: Tensor(\"data_1:0\", shape=(None,), dtype=float64)\n",
      "Weights: None\n",
      "Normalized tensor features:\n",
      " {'data:0.0': SemanticTensor(semantic=<Semantic.NUMERICAL: 1>, tensor=<tf.Tensor 'strided_slice:0' shape=(None,) dtype=float32>), 'data:0.1': SemanticTensor(semantic=<Semantic.NUMERICAL: 1>, tensor=<tf.Tensor 'strided_slice_1:0' shape=(None,) dtype=float32>), 'data:0.2': SemanticTensor(semantic=<Semantic.NUMERICAL: 1>, tensor=<tf.Tensor 'strided_slice_2:0' shape=(None,) dtype=float32>), 'data:0.3': SemanticTensor(semantic=<Semantic.NUMERICAL: 1>, tensor=<tf.Tensor 'strided_slice_3:0' shape=(None,) dtype=float32>), 'data:0.4': SemanticTensor(semantic=<Semantic.NUMERICAL: 1>, tensor=<tf.Tensor 'strided_slice_4:0' shape=(None,) dtype=float32>), 'data:0.5': SemanticTensor(semantic=<Semantic.NUMERICAL: 1>, tensor=<tf.Tensor 'strided_slice_5:0' shape=(None,) dtype=float32>)}\n",
      "Training dataset read in 0:00:03.242670. Found 900000 examples.\n",
      "Training model...\n",
      "Standard output detected as not visible to the user e.g. running in a notebook. Creating a training log redirection. If training gets stuck, try calling tfdf.keras.set_training_logs_redirection(False).\n",
      "Model trained in 0:02:54.789053\n",
      "Compiling model...\n",
      "Model compiled.\n"
     ]
    },
    {
     "data": {
      "text/plain": [
       "<tf_keras.src.callbacks.History at 0x2d30c8e90>"
      ]
     },
     "execution_count": 8,
     "metadata": {},
     "output_type": "execute_result"
    }
   ],
   "source": [
    "depth = 32\n",
    "model = tfdf.keras.RandomForestModel(max_depth=depth, verbose=2)\n",
    "model.fit(train_dataset)"
   ]
  },
  {
   "cell_type": "code",
   "execution_count": 9,
   "metadata": {},
   "outputs": [
    {
     "name": "stdout",
     "output_type": "stream",
     "text": [
      "INFO:tensorflow:Assets written to: saved_models/test_32_1000000/assets\n"
     ]
    },
    {
     "name": "stderr",
     "output_type": "stream",
     "text": [
      "INFO:tensorflow:Assets written to: saved_models/test_32_1000000/assets\n"
     ]
    }
   ],
   "source": [
    "model.save(\"saved_models/test_\"+str(depth)+\"_\"+str(nsamples))"
   ]
  },
  {
   "cell_type": "code",
   "execution_count": 10,
   "metadata": {},
   "outputs": [
    {
     "name": "stdout",
     "output_type": "stream",
     "text": [
      "100/100 [==============================] - 13s 106ms/step - loss: 0.0000e+00 - accuracy: 0.9384\n",
      "\n",
      "loss: 0.0000\n",
      "accuracy: 0.9384\n"
     ]
    }
   ],
   "source": [
    "model.compile(metrics=[\"accuracy\"])\n",
    "evaluation = model.evaluate(test_dataset.batch(batch_size=1000), return_dict=True)\n",
    "print()\n",
    "\n",
    "for name, value in evaluation.items():\n",
    "  print(f\"{name}: {value:.4f}\")"
   ]
  },
  {
   "cell_type": "code",
   "execution_count": 11,
   "metadata": {},
   "outputs": [
    {
     "name": "stdout",
     "output_type": "stream",
     "text": [
      "(data:0.5 >= 56.587608337402344; miss=False, score=0.009064632467925549)\n",
      "    ├─(pos)─ (data:0.3 >= 74.50198364257812; miss=False, score=0.00949378777295351)\n",
      "    │        ├─(pos)─ (data:0.4 >= 76.26998138427734; miss=False, score=0.0017430596053600311)\n",
      "    │        │        ├─(pos)─ ProbabilityValue([1.0, 0.0],n=32159.0) (idx=27494)\n",
      "    │        │        └─(neg)─ (data:0.2 >= 80.57464599609375; miss=False, score=0.001787362969480455)\n",
      "    │        │             ...\n",
      "    │        └─(neg)─ (data:0.3 >= 67.91064453125; miss=False, score=0.005370383150875568)\n",
      "    │                 ├─(pos)─ (data:0.2 >= 77.84890747070312; miss=False, score=0.005276049487292767)\n",
      "    │                 │    ...\n",
      "    │                 └─(neg)─ (data:0.4 >= 63.597984313964844; miss=False, score=0.081681028008461)\n",
      "    │                      ...\n",
      "    └─(neg)─ (data:0.5 >= 22.957019805908203; miss=True, score=0.007493013981729746)\n",
      "             ├─(pos)─ (data:0.4 >= 30.33751678466797; miss=True, score=0.0018323288531973958)\n",
      "             │        ├─(pos)─ (data:0.1 >= 39.358497619628906; miss=True, score=0.0049257525242865086)\n",
      "             │        │    ...\n",
      "             │        └─(neg)─ (data:0.3 >= 30.72718048095703; miss=True, score=0.003385168733075261)\n",
      "             │             ...\n",
      "             └─(neg)─ (data:0.5 >= 17.25319480895996; miss=True, score=0.009937371127307415)\n",
      "                      ├─(pos)─ (data:0.1 >= 25.995874404907227; miss=True, score=0.008225317113101482)\n",
      "                      │    ...\n",
      "                      └─(neg)─ (data:0.4 >= 15.229421615600586; miss=True, score=0.004765435121953487)\n",
      "                           ...\n",
      "\n"
     ]
    }
   ],
   "source": [
    "print(model.make_inspector().extract_tree(1))"
   ]
  },
  {
   "cell_type": "code",
   "execution_count": 12,
   "metadata": {},
   "outputs": [
    {
     "name": "stdout",
     "output_type": "stream",
     "text": [
      "100/100 [==============================] - 11s 104ms/step\n"
     ]
    }
   ],
   "source": [
    "predicted_labels = model.predict(test_dataset.batch(batch_size=1000))"
   ]
  },
  {
   "cell_type": "code",
   "execution_count": 13,
   "metadata": {},
   "outputs": [
    {
     "data": {
      "text/plain": [
       "0.99999917"
      ]
     },
     "execution_count": 13,
     "metadata": {},
     "output_type": "execute_result"
    }
   ],
   "source": [
    "predicted_labels[:, 0].max()"
   ]
  },
  {
   "cell_type": "code",
   "execution_count": 88,
   "metadata": {},
   "outputs": [
    {
     "name": "stdout",
     "output_type": "stream",
     "text": [
      "tf.Tensor(\n",
      "[[84014  1642]\n",
      " [ 4522  9822]], shape=(2, 2), dtype=int32)\n",
      "efficency(%):  68.47462353597324\n",
      "purity(%):  85.67690160502443\n"
     ]
    },
    {
     "data": {
      "image/png": "[encoded data removed]",
      "text/plain": [
       "<Figure size 640x480 with 1 Axes>"
      ]
     },
     "metadata": {},
     "output_type": "display_data"
    }
   ],
   "source": [
    "confidence_level = 0.5 #hyperparameter(ideal value depends on survey size? The larger your initial set of galaxies, the lower)\n",
    "predictions = predicted_labels[:, 0]\n",
    "predicted_labels_at_confidence = np.where(predictions > confidence_level, 1.0, 0.0)\n",
    "cmatrix = tf.math.confusion_matrix(labels[train_size:], predicted_labels_at_confidence)\n",
    "\n",
    "print(cmatrix)\n",
    "# TN FP\n",
    "# FN TP\n",
    "\n",
    "z_bins = np.linspace(0.0, 7.0, 70)\n",
    "\n",
    "test_set_redshifts = redshifts[train_size:]\n",
    "test_set_lbgs = test_set_redshifts[np.where((test_set_redshifts > 2.5) & (test_set_redshifts < 3.5) )[0]]\n",
    "\n",
    "selected_lbgs = test_set_redshifts[np.where(predicted_labels_at_confidence == 1.0)[0]]\n",
    "\n",
    "\n",
    "plt.hist(test_set_lbgs, bins=z_bins, label=\"True LBGs\", density=True, alpha=0.75)\n",
    "plt.hist(selected_lbgs, bins=z_bins, label=\"Selected LBGs\", density=True, alpha=0.75)\n",
    "plt.legend()\n",
    "\n",
    "print(\"efficency(%): \", float(((cmatrix[1, 1])/test_set_lbgs.shape[0])*100))\n",
    "print(\"purity(%): \", float((cmatrix[1, 1]/(cmatrix[0,1]+cmatrix[1, 1]))*100)) #of all positives - which are truly lbgs?"
   ]
  }
 ],
 "metadata": {
  "kernelspec": {
   "display_name": "tensorflow",
   "language": "python",
   "name": "tf_env"
  },
  "language_info": {
   "codemirror_mode": {
    "name": "ipython",
    "version": 3
   },
   "file_extension": ".py",
   "mimetype": "text/x-python",
   "name": "python",
   "nbconvert_exporter": "python",
   "pygments_lexer": "ipython3",
   "version": "3.11.9"
  }
 },
 "nbformat": 4,
 "nbformat_minor": 2
}
