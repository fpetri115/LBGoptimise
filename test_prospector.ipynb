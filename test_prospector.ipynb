{
 "cells": [
  {
   "cell_type": "code",
   "execution_count": 1,
   "metadata": {},
   "outputs": [],
   "source": [
    "import os\n",
    "os.environ[\"SPS_HOME\"] = \"/Users/fpetri/packages/fsps\" \n",
    "\n",
    "import numpy as np\n",
    "from prospect.models.templates import TemplateLibrary\n",
    "from prospect.models import SpecModel\n",
    "import prospect.models.transforms as transforms\n",
    "import prospect.plotting.utils as utils\n",
    "import matplotlib.pyplot as plt\n",
    "import tools\n",
    "from prospect.sources import CSPSpecBasis"
   ]
  },
  {
   "cell_type": "code",
   "execution_count": 2,
   "metadata": {},
   "outputs": [
    {
     "name": "stdout",
     "output_type": "stream",
     "text": [
      "(b'mist', b'miles', b'DL07')\n",
      ":::::::\n",
      "<class 'prospect.models.sedmodel.SpecModel'>\n",
      "\n",
      "Free Parameters: (name: prior) \n",
      "-----------\n",
      "  dust2: <class 'prospect.models.priors.TopHat'>(mini=0.0,maxi=4.0)\n",
      "  duste_umin: <class 'prospect.models.priors.TopHat'>(mini=0.1,maxi=25)\n",
      "  duste_qpah: <class 'prospect.models.priors.TopHat'>(mini=0.5,maxi=7.0)\n",
      "  duste_gamma: <class 'prospect.models.priors.LogUniform'>(mini=0.001,maxi=0.15)\n",
      "  fagn: <class 'prospect.models.priors.LogUniform'>(mini=1e-05,maxi=3.0)\n",
      "  agn_tau: <class 'prospect.models.priors.LogUniform'>(mini=5.0,maxi=150.0)\n",
      "  dust_ratio: <class 'prospect.models.priors.ClippedNormal'>(mean=1.0,sigma=0.3,mini=0.0,maxi=2.0)\n",
      "  dust_index: <class 'prospect.models.priors.TopHat'>(mini=-2.0,maxi=0.5)\n",
      "  nzsfh: <class 'prospect.models.priors_beta.NzSFH'>(zred_mini=0.001,zred_maxi=15.0,mass_mini=7.0,mass_maxi=12.5,z_mini=-1.98,z_maxi=0.19,logsfr_ratio_mini=-5.0,logsfr_ratio_maxi=5.0,logsfr_ratio_tscale=0.3,nbins_sfh=7,const_phi=True)\n",
      "\n",
      "Fixed Parameters: (name: value [, depends_on]) \n",
      "-----------\n",
      "  zred: [0.5] <function nzsfh_to_zred at 0x14a8f1620>\n",
      "  mass: [1000000.] <function logsfr_ratios_to_masses at 0x14a8f0b80>\n",
      "  logzsol: [-0.5] <function nzsfh_to_logzsol at 0x14a8f1800>\n",
      "  sfh: [3] \n",
      "  imf_type: [2] \n",
      "  dust_type: [4] \n",
      "  agebins: [[0.         7.47712   ]\n",
      " [7.47712    8.        ]\n",
      " [8.         8.47289792]\n",
      " [8.47289792 8.94579584]\n",
      " [8.94579584 9.41869375]\n",
      " [9.41869375 9.89159167]\n",
      " [9.89159167 9.93734916]] <function zred_to_agebins_pbeta at 0x14a8f1300>\n",
      "  add_dust_emission: [ True] \n",
      "  add_neb_emission: [ True] \n",
      "  add_neb_continuum: [ True] \n",
      "  nebemlineinspec: [ True] \n",
      "  gas_logz: [0.] <function stellar_logzsol at 0x12a4632e0>\n",
      "  gas_logu: [-2.] \n",
      "  add_agn_dust: [ True] \n",
      "  dust1: [0.] <function dustratio_to_dust1 at 0x14a8f0ae0>\n",
      "  logmass: [8.] <function nzsfh_to_logmass at 0x14a8f16c0>\n",
      "  logsfr_ratios: [0.] <function nzsfh_to_logsfr_ratios at 0x14a8f18a0>\n"
     ]
    }
   ],
   "source": [
    "model_params = TemplateLibrary[\"beta\"]\n",
    "model = SpecModel(model_params)\n",
    "sps = CSPSpecBasis(zcontinuous=1)\n",
    "print(sps.ssp.libraries)\n",
    "print(model)"
   ]
  },
  {
   "cell_type": "code",
   "execution_count": 3,
   "metadata": {},
   "outputs": [
    {
     "data": {
      "text/plain": [
       "(array([100., 100., 100., 100., 100., 100., 100., 100., 100., 100.]),\n",
       " array([0. , 0.4, 0.8, 1.2, 1.6, 2. , 2.4, 2.8, 3.2, 3.6, 4. ]),\n",
       " <BarContainer object of 10 artists>)"
      ]
     },
     "execution_count": 3,
     "metadata": {},
     "output_type": "execute_result"
    },
    {
     "data": {
      "image/png": "[encoded data removed]",
      "text/plain": [
       "<Figure size 640x480 with 1 Axes>"
      ]
     },
     "metadata": {},
     "output_type": "display_data"
    }
   ],
   "source": [
    "samples = utils.sample_prior(model, 1000)[0]\n",
    "plt.hist(samples[:,0])"
   ]
  },
  {
   "cell_type": "code",
   "execution_count": 4,
   "metadata": {},
   "outputs": [
    {
     "data": {
      "text/plain": [
       "(1000,)"
      ]
     },
     "execution_count": 4,
     "metadata": {},
     "output_type": "execute_result"
    }
   ],
   "source": [
    "meow = samples[:, -1]\n",
    "meow.shape\n",
    "#transforms.nzsfh_to_zred(meow)"
   ]
  },
  {
   "cell_type": "code",
   "execution_count": 5,
   "metadata": {},
   "outputs": [
    {
     "ename": "AttributeError",
     "evalue": "'SpecModel' object has no attribute '_norm_spec'",
     "output_type": "error",
     "traceback": [
      "\u001b[0;31m---------------------------------------------------------------------------\u001b[0m",
      "\u001b[0;31mAttributeError\u001b[0m                            Traceback (most recent call last)",
      "Cell \u001b[0;32mIn[5], line 3\u001b[0m\n\u001b[1;32m      1\u001b[0m SpecModel\u001b[38;5;241m.\u001b[39m_wave \u001b[38;5;241m=\u001b[39m np\u001b[38;5;241m.\u001b[39mlinspace(\u001b[38;5;241m100\u001b[39m, \u001b[38;5;241m1000\u001b[39m, \u001b[38;5;241m1000\u001b[39m) \n\u001b[1;32m      2\u001b[0m SpecModel\u001b[38;5;241m.\u001b[39m_zred \u001b[38;5;241m=\u001b[39m \u001b[38;5;241m0.5\u001b[39m \n\u001b[0;32m----> 3\u001b[0m \u001b[43mmodel\u001b[49m\u001b[38;5;241;43m.\u001b[39;49m\u001b[43mpredict_phot\u001b[49m\u001b[43m(\u001b[49m\u001b[43mfilters\u001b[49m\u001b[43m \u001b[49m\u001b[38;5;241;43m=\u001b[39;49m\u001b[43m \u001b[49m\u001b[43mtools\u001b[49m\u001b[38;5;241;43m.\u001b[39;49m\u001b[43mload_lsst_filters\u001b[49m\u001b[43m(\u001b[49m\u001b[38;5;124;43m\"\u001b[39;49m\u001b[38;5;124;43m./\u001b[39;49m\u001b[38;5;124;43m\"\u001b[39;49m\u001b[43m)\u001b[49m\u001b[43m)\u001b[49m\n",
      "File \u001b[0;32m~/anaconda3/envs/tfdt_env/lib/python3.11/site-packages/prospect/models/sedmodel.py:218\u001b[0m, in \u001b[0;36mSpecModel.predict_phot\u001b[0;34m(self, filters)\u001b[0m\n\u001b[1;32m    216\u001b[0m \u001b[38;5;66;03m# generate photometry w/o emission lines\u001b[39;00m\n\u001b[1;32m    217\u001b[0m obs_wave \u001b[38;5;241m=\u001b[39m \u001b[38;5;28mself\u001b[39m\u001b[38;5;241m.\u001b[39mobserved_wave(\u001b[38;5;28mself\u001b[39m\u001b[38;5;241m.\u001b[39m_wave, do_wavecal\u001b[38;5;241m=\u001b[39m\u001b[38;5;28;01mFalse\u001b[39;00m)\n\u001b[0;32m--> 218\u001b[0m flambda \u001b[38;5;241m=\u001b[39m \u001b[38;5;28;43mself\u001b[39;49m\u001b[38;5;241;43m.\u001b[39;49m\u001b[43m_norm_spec\u001b[49m \u001b[38;5;241m*\u001b[39m lightspeed \u001b[38;5;241m/\u001b[39m obs_wave\u001b[38;5;241m*\u001b[39m\u001b[38;5;241m*\u001b[39m\u001b[38;5;241m2\u001b[39m \u001b[38;5;241m*\u001b[39m (\u001b[38;5;241m3631\u001b[39m\u001b[38;5;241m*\u001b[39mjansky_cgs)\n\u001b[1;32m    219\u001b[0m phot \u001b[38;5;241m=\u001b[39m \u001b[38;5;241m10\u001b[39m\u001b[38;5;241m*\u001b[39m\u001b[38;5;241m*\u001b[39m(\u001b[38;5;241m-\u001b[39m\u001b[38;5;241m0.4\u001b[39m \u001b[38;5;241m*\u001b[39m np\u001b[38;5;241m.\u001b[39matleast_1d(getSED(obs_wave, flambda, filters)))\n\u001b[1;32m    220\u001b[0m \u001b[38;5;66;03m# TODO: below is faster for sedpy > 0.2.0\u001b[39;00m\n\u001b[1;32m    221\u001b[0m \u001b[38;5;66;03m#phot = np.atleast_1d(getSED(obs_wave, flambda, filters, linear_flux=True))\u001b[39;00m\n\u001b[1;32m    222\u001b[0m \n\u001b[1;32m    223\u001b[0m \u001b[38;5;66;03m# generate emission-line photometry\u001b[39;00m\n",
      "\u001b[0;31mAttributeError\u001b[0m: 'SpecModel' object has no attribute '_norm_spec'"
     ]
    }
   ],
   "source": [
    "SpecModel._wave = np.linspace(100, 1000, 1000) \n",
    "SpecModel._zred = 0.5 \n",
    "model.predict_phot(filters = tools.load_lsst_filters(\"./\"))"
   ]
  },
  {
   "cell_type": "code",
   "execution_count": 51,
   "metadata": {},
   "outputs": [
    {
     "name": "stdout",
     "output_type": "stream",
     "text": [
      "(10000, 9)\n"
     ]
    }
   ],
   "source": [
    "from prospect.models import priors_beta as pb\n",
    "prior = pb.NzSFH(zred_mini=1e-3, zred_maxi=15.0,mass_mini=7.0, mass_maxi=12.5,\n",
    "                z_mini=-1.98, z_maxi=0.19,\n",
    "                logsfr_ratio_mini=-5.0, logsfr_ratio_maxi=5.0,\n",
    "                logsfr_ratio_tscale=0.3, nbins_sfh=7,\n",
    "                const_phi=True)\n",
    "\n",
    "\n",
    "nsamples = 10000\n",
    "prior_samples = []\n",
    "for i in range(nsamples):\n",
    "    prior_samples.append(prior.sample())\n",
    "\n",
    "samples = np.vstack(np.array(prior_samples))\n",
    "print(samples.shape) #z, mass, met, sfrs"
   ]
  },
  {
   "cell_type": "code",
   "execution_count": 45,
   "metadata": {},
   "outputs": [
    {
     "data": {
      "text/plain": [
       "(array([0.01158413, 0.04344049, 0.1071532 , 0.16652187, 0.19982624,\n",
       "        0.20417029, 0.28670721, 0.28670721, 0.30118737, 0.34317984,\n",
       "        0.3214596 , 0.30118737, 0.27946713, 0.28381118, 0.29249928,\n",
       "        0.2229945 , 0.21141037, 0.20417029, 0.24616276, 0.20417029,\n",
       "        0.17520996, 0.19982624, 0.16217782, 0.13466551, 0.15493774,\n",
       "        0.12742543, 0.12597741, 0.12018535, 0.14045757, 0.14045757,\n",
       "        0.14769765, 0.14190559, 0.10860122, 0.1071532 , 0.13611352,\n",
       "        0.1071532 , 0.11728931, 0.11728931, 0.09991312, 0.09412105,\n",
       "        0.08543296, 0.09556907, 0.09267304, 0.10280915, 0.1158413 ,\n",
       "        0.09267304, 0.10570518, 0.12597741, 0.08977701, 0.10425717,\n",
       "        0.09556907, 0.09991312, 0.09412105, 0.08398494, 0.09556907,\n",
       "        0.09991312, 0.07964089, 0.10425717, 0.09701709, 0.1071532 ,\n",
       "        0.0984651 , 0.09701709, 0.08977701, 0.10280915, 0.09267304,\n",
       "        0.08977701, 0.09701709, 0.09412105, 0.09412105]),\n",
       " array([0. , 0.1, 0.2, 0.3, 0.4, 0.5, 0.6, 0.7, 0.8, 0.9, 1. , 1.1, 1.2,\n",
       "        1.3, 1.4, 1.5, 1.6, 1.7, 1.8, 1.9, 2. , 2.1, 2.2, 2.3, 2.4, 2.5,\n",
       "        2.6, 2.7, 2.8, 2.9, 3. , 3.1, 3.2, 3.3, 3.4, 3.5, 3.6, 3.7, 3.8,\n",
       "        3.9, 4. , 4.1, 4.2, 4.3, 4.4, 4.5, 4.6, 4.7, 4.8, 4.9, 5. , 5.1,\n",
       "        5.2, 5.3, 5.4, 5.5, 5.6, 5.7, 5.8, 5.9, 6. , 6.1, 6.2, 6.3, 6.4,\n",
       "        6.5, 6.6, 6.7, 6.8, 6.9]),\n",
       " <BarContainer object of 69 artists>)"
      ]
     },
     "execution_count": 45,
     "metadata": {},
     "output_type": "execute_result"
    },
    {
     "data": {
      "image/png": "[encoded data removed]",
      "text/plain": [
       "<Figure size 640x480 with 1 Axes>"
      ]
     },
     "metadata": {},
     "output_type": "display_data"
    }
   ],
   "source": [
    "zbins = np.arange(0, 7, 0.1)\n",
    "plt.hist(samples[:, 0], density=True, bins=zbins)"
   ]
  },
  {
   "cell_type": "code",
   "execution_count": 49,
   "metadata": {},
   "outputs": [
    {
     "data": {
      "text/plain": [
       "(array([1.53949091e+00, 8.84672727e-01, 7.85781818e-01, 6.42345455e-01,\n",
       "        5.95127273e-01, 5.35436364e-01, 4.91781818e-01, 4.24963636e-01,\n",
       "        3.12709091e-01, 3.58145455e-01, 2.82418182e-01, 2.73509091e-01,\n",
       "        2.20945455e-01, 1.95109091e-01, 1.78181818e-01, 1.58581818e-01,\n",
       "        1.45218182e-01, 1.22054545e-01, 9.80000000e-02, 8.46363636e-02,\n",
       "        7.66181818e-02, 7.21636364e-02, 5.88000000e-02, 5.52363636e-02,\n",
       "        5.88000000e-02, 4.18727273e-02, 3.74181818e-02, 3.38545455e-02,\n",
       "        2.94000000e-02, 3.02909091e-02, 2.04909091e-02, 1.24727273e-02,\n",
       "        1.42545455e-02, 1.42545455e-02, 8.90909091e-03, 3.56363636e-03,\n",
       "        5.34545455e-03, 3.56363636e-03, 8.90909091e-04, 0.00000000e+00,\n",
       "        1.78181818e-03, 0.00000000e+00, 0.00000000e+00, 0.00000000e+00,\n",
       "        0.00000000e+00, 0.00000000e+00, 0.00000000e+00, 0.00000000e+00,\n",
       "        0.00000000e+00]),\n",
       " array([ 7.        ,  7.1122449 ,  7.2244898 ,  7.33673469,  7.44897959,\n",
       "         7.56122449,  7.67346939,  7.78571429,  7.89795918,  8.01020408,\n",
       "         8.12244898,  8.23469388,  8.34693878,  8.45918367,  8.57142857,\n",
       "         8.68367347,  8.79591837,  8.90816327,  9.02040816,  9.13265306,\n",
       "         9.24489796,  9.35714286,  9.46938776,  9.58163265,  9.69387755,\n",
       "         9.80612245,  9.91836735, 10.03061224, 10.14285714, 10.25510204,\n",
       "        10.36734694, 10.47959184, 10.59183673, 10.70408163, 10.81632653,\n",
       "        10.92857143, 11.04081633, 11.15306122, 11.26530612, 11.37755102,\n",
       "        11.48979592, 11.60204082, 11.71428571, 11.82653061, 11.93877551,\n",
       "        12.05102041, 12.16326531, 12.2755102 , 12.3877551 , 12.5       ]),\n",
       " <BarContainer object of 49 artists>)"
      ]
     },
     "execution_count": 49,
     "metadata": {},
     "output_type": "execute_result"
    },
    {
     "data": {
      "image/png": "[encoded data removed]",
      "text/plain": [
       "<Figure size 640x480 with 1 Axes>"
      ]
     },
     "metadata": {},
     "output_type": "display_data"
    }
   ],
   "source": [
    "mbins = np.logspace(7, 12.5, 50)\n",
    "plt.hist(samples[:, 1], density=True, bins=np.log10(mbins))"
   ]
  }
 ],
 "metadata": {
  "kernelspec": {
   "display_name": "tfdt_env",
   "language": "python",
   "name": "python3"
  },
  "language_info": {
   "codemirror_mode": {
    "name": "ipython",
    "version": 3
   },
   "file_extension": ".py",
   "mimetype": "text/x-python",
   "name": "python",
   "nbconvert_exporter": "python",
   "pygments_lexer": "ipython3",
   "version": "3.11.9"
  }
 },
 "nbformat": 4,
 "nbformat_minor": 2
}
