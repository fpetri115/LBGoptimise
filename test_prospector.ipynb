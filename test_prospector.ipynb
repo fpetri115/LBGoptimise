{
 "cells": [
  {
   "cell_type": "code",
   "execution_count": 7,
   "metadata": {},
   "outputs": [],
   "source": [
    "import os\n",
    "os.environ[\"SPS_HOME\"] = \"/Users/fpetri/packages/fsps\" \n",
    "\n",
    "import numpy as np\n",
    "from prospect.models.templates import TemplateLibrary\n",
    "from prospect.models import SpecModel\n",
    "import prospect.models.transforms as transforms\n",
    "import prospect.plotting.utils as utils\n",
    "import matplotlib.pyplot as plt\n",
    "import tools"
   ]
  },
  {
   "cell_type": "code",
   "execution_count": 2,
   "metadata": {},
   "outputs": [
    {
     "name": "stdout",
     "output_type": "stream",
     "text": [
      ":::::::\n",
      "<class 'prospect.models.sedmodel.SpecModel'>\n",
      "\n",
      "Free Parameters: (name: prior) \n",
      "-----------\n",
      "  dust2: <class 'prospect.models.priors.TopHat'>(mini=0.0,maxi=4.0)\n",
      "  duste_umin: <class 'prospect.models.priors.TopHat'>(mini=0.1,maxi=25)\n",
      "  duste_qpah: <class 'prospect.models.priors.TopHat'>(mini=0.5,maxi=7.0)\n",
      "  duste_gamma: <class 'prospect.models.priors.LogUniform'>(mini=0.001,maxi=0.15)\n",
      "  fagn: <class 'prospect.models.priors.LogUniform'>(mini=1e-05,maxi=3.0)\n",
      "  agn_tau: <class 'prospect.models.priors.LogUniform'>(mini=5.0,maxi=150.0)\n",
      "  dust_ratio: <class 'prospect.models.priors.ClippedNormal'>(mean=1.0,sigma=0.3,mini=0.0,maxi=2.0)\n",
      "  dust_index: <class 'prospect.models.priors.TopHat'>(mini=-2.0,maxi=0.5)\n",
      "  nzsfh: <class 'prospect.models.priors_beta.NzSFH'>(zred_mini=0.001,zred_maxi=15.0,mass_mini=7.0,mass_maxi=12.5,z_mini=-1.98,z_maxi=0.19,logsfr_ratio_mini=-5.0,logsfr_ratio_maxi=5.0,logsfr_ratio_tscale=0.3,nbins_sfh=7,const_phi=True)\n",
      "\n",
      "Fixed Parameters: (name: value [, depends_on]) \n",
      "-----------\n",
      "  zred: [0.5] <function nzsfh_to_zred at 0x147559620>\n",
      "  mass: [1000000.] <function logsfr_ratios_to_masses at 0x147558b80>\n",
      "  logzsol: [-0.5] <function nzsfh_to_logzsol at 0x147559800>\n",
      "  sfh: [3] \n",
      "  imf_type: [2] \n",
      "  dust_type: [4] \n",
      "  agebins: [[0.         7.47712   ]\n",
      " [7.47712    8.        ]\n",
      " [8.         8.47289792]\n",
      " [8.47289792 8.94579584]\n",
      " [8.94579584 9.41869375]\n",
      " [9.41869375 9.89159167]\n",
      " [9.89159167 9.93734916]] <function zred_to_agebins_pbeta at 0x147559300>\n",
      "  add_dust_emission: [ True] \n",
      "  add_neb_emission: [ True] \n",
      "  add_neb_continuum: [ True] \n",
      "  nebemlineinspec: [ True] \n",
      "  gas_logz: [0.] <function stellar_logzsol at 0x125c132e0>\n",
      "  gas_logu: [-2.] \n",
      "  add_agn_dust: [ True] \n",
      "  dust1: [0.] <function dustratio_to_dust1 at 0x147558ae0>\n",
      "  logmass: [8.] <function nzsfh_to_logmass at 0x1475596c0>\n",
      "  logsfr_ratios: [0.] <function nzsfh_to_logsfr_ratios at 0x1475598a0>\n"
     ]
    }
   ],
   "source": [
    "model_params = TemplateLibrary[\"beta\"]\n",
    "model = SpecModel(model_params)\n",
    "print(model)"
   ]
  },
  {
   "cell_type": "code",
   "execution_count": 3,
   "metadata": {},
   "outputs": [
    {
     "data": {
      "text/plain": [
       "(array([100., 100., 100., 100., 100., 100., 100., 100., 100., 100.]),\n",
       " array([0. , 0.4, 0.8, 1.2, 1.6, 2. , 2.4, 2.8, 3.2, 3.6, 4. ]),\n",
       " <BarContainer object of 10 artists>)"
      ]
     },
     "execution_count": 3,
     "metadata": {},
     "output_type": "execute_result"
    },
    {
     "data": {
      "image/png": "[encoded data removed]",
      "text/plain": [
       "<Figure size 640x480 with 1 Axes>"
      ]
     },
     "metadata": {},
     "output_type": "display_data"
    }
   ],
   "source": [
    "samples = utils.sample_prior(model, 1000)[0]\n",
    "plt.hist(samples[:,0])"
   ]
  },
  {
   "cell_type": "code",
   "execution_count": 4,
   "metadata": {},
   "outputs": [
    {
     "data": {
      "text/plain": [
       "(1000,)"
      ]
     },
     "execution_count": 4,
     "metadata": {},
     "output_type": "execute_result"
    }
   ],
   "source": [
    "meow = samples[:, -1]\n",
    "meow.shape\n",
    "#transforms.nzsfh_to_zred(meow)"
   ]
  },
  {
   "cell_type": "code",
   "execution_count": 9,
   "metadata": {},
   "outputs": [
    {
     "ename": "AttributeError",
     "evalue": "'SpecModel' object has no attribute '_norm_spec'",
     "output_type": "error",
     "traceback": [
      "\u001b[0;31m---------------------------------------------------------------------------\u001b[0m",
      "\u001b[0;31mAttributeError\u001b[0m                            Traceback (most recent call last)",
      "Cell \u001b[0;32mIn[9], line 3\u001b[0m\n\u001b[1;32m      1\u001b[0m SpecModel\u001b[38;5;241m.\u001b[39m_wave \u001b[38;5;241m=\u001b[39m np\u001b[38;5;241m.\u001b[39mlinspace(\u001b[38;5;241m100\u001b[39m, \u001b[38;5;241m1000\u001b[39m, \u001b[38;5;241m1000\u001b[39m) \n\u001b[1;32m      2\u001b[0m SpecModel\u001b[38;5;241m.\u001b[39m_zred \u001b[38;5;241m=\u001b[39m \u001b[38;5;241m0.5\u001b[39m \n\u001b[0;32m----> 3\u001b[0m \u001b[43mmodel\u001b[49m\u001b[38;5;241;43m.\u001b[39;49m\u001b[43mpredict_phot\u001b[49m\u001b[43m(\u001b[49m\u001b[43mfilters\u001b[49m\u001b[43m \u001b[49m\u001b[38;5;241;43m=\u001b[39;49m\u001b[43m \u001b[49m\u001b[43mtools\u001b[49m\u001b[38;5;241;43m.\u001b[39;49m\u001b[43mload_lsst_filters\u001b[49m\u001b[43m(\u001b[49m\u001b[38;5;124;43m\"\u001b[39;49m\u001b[38;5;124;43m./\u001b[39;49m\u001b[38;5;124;43m\"\u001b[39;49m\u001b[43m)\u001b[49m\u001b[43m)\u001b[49m\n",
      "File \u001b[0;32m~/anaconda3/envs/tfdt_env/lib/python3.11/site-packages/prospect/models/sedmodel.py:218\u001b[0m, in \u001b[0;36mSpecModel.predict_phot\u001b[0;34m(self, filters)\u001b[0m\n\u001b[1;32m    216\u001b[0m \u001b[38;5;66;03m# generate photometry w/o emission lines\u001b[39;00m\n\u001b[1;32m    217\u001b[0m obs_wave \u001b[38;5;241m=\u001b[39m \u001b[38;5;28mself\u001b[39m\u001b[38;5;241m.\u001b[39mobserved_wave(\u001b[38;5;28mself\u001b[39m\u001b[38;5;241m.\u001b[39m_wave, do_wavecal\u001b[38;5;241m=\u001b[39m\u001b[38;5;28;01mFalse\u001b[39;00m)\n\u001b[0;32m--> 218\u001b[0m flambda \u001b[38;5;241m=\u001b[39m \u001b[38;5;28;43mself\u001b[39;49m\u001b[38;5;241;43m.\u001b[39;49m\u001b[43m_norm_spec\u001b[49m \u001b[38;5;241m*\u001b[39m lightspeed \u001b[38;5;241m/\u001b[39m obs_wave\u001b[38;5;241m*\u001b[39m\u001b[38;5;241m*\u001b[39m\u001b[38;5;241m2\u001b[39m \u001b[38;5;241m*\u001b[39m (\u001b[38;5;241m3631\u001b[39m\u001b[38;5;241m*\u001b[39mjansky_cgs)\n\u001b[1;32m    219\u001b[0m phot \u001b[38;5;241m=\u001b[39m \u001b[38;5;241m10\u001b[39m\u001b[38;5;241m*\u001b[39m\u001b[38;5;241m*\u001b[39m(\u001b[38;5;241m-\u001b[39m\u001b[38;5;241m0.4\u001b[39m \u001b[38;5;241m*\u001b[39m np\u001b[38;5;241m.\u001b[39matleast_1d(getSED(obs_wave, flambda, filters)))\n\u001b[1;32m    220\u001b[0m \u001b[38;5;66;03m# TODO: below is faster for sedpy > 0.2.0\u001b[39;00m\n\u001b[1;32m    221\u001b[0m \u001b[38;5;66;03m#phot = np.atleast_1d(getSED(obs_wave, flambda, filters, linear_flux=True))\u001b[39;00m\n\u001b[1;32m    222\u001b[0m \n\u001b[1;32m    223\u001b[0m \u001b[38;5;66;03m# generate emission-line photometry\u001b[39;00m\n",
      "\u001b[0;31mAttributeError\u001b[0m: 'SpecModel' object has no attribute '_norm_spec'"
     ]
    }
   ],
   "source": [
    "SpecModel._wave = np.linspace(100, 1000, 1000) \n",
    "SpecModel._zred = 0.5 \n",
    "model.predict_phot(filters = tools.load_lsst_filters(\"./\"))"
   ]
  }
 ],
 "metadata": {
  "kernelspec": {
   "display_name": "tfdt_env",
   "language": "python",
   "name": "python3"
  },
  "language_info": {
   "codemirror_mode": {
    "name": "ipython",
    "version": 3
   },
   "file_extension": ".py",
   "mimetype": "text/x-python",
   "name": "python",
   "nbconvert_exporter": "python",
   "pygments_lexer": "ipython3",
   "version": "3.11.9"
  }
 },
 "nbformat": 4,
 "nbformat_minor": 2
}
