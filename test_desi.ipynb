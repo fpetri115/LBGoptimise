{
 "cells": [
  {
   "cell_type": "code",
   "execution_count": 1,
   "metadata": {},
   "outputs": [],
   "source": [
    "import numpy as np\n",
    "from astropy.io import fits\n",
    "import matplotlib.pyplot as plt"
   ]
  },
  {
   "cell_type": "code",
   "execution_count": 5,
   "metadata": {},
   "outputs": [],
   "source": [
    "spectrum = '/Users/fpetri/20210430/spectra-0-80871-thru20210430.fits'\n",
    "redrock = '/Users/fpetri/20210430/redrock-0-80871-thru20210430.fits'\n",
    "hdulspec = fits.open(spectrum)\n",
    "hdulrock = fits.open(redrock)"
   ]
  },
  {
   "cell_type": "code",
   "execution_count": 6,
   "metadata": {},
   "outputs": [
    {
     "name": "stdout",
     "output_type": "stream",
     "text": [
      "Filename: /Users/fpetri/20210430/spectra-0-80871-thru20210430.fits\n",
      "No.    Name      Ver    Type      Cards   Dimensions   Format\n",
      "  0  PRIMARY       1 PrimaryHDU      58   ()      \n",
      "  1  FIBERMAP      1 BinTableHDU    167   9500R x 78C   [K, I, J, K, J, J, D, D, E, E, E, E, K, B, 3A, E, E, J, D, J, I, 8A, J, J, 4A, E, E, E, E, E, E, E, E, E, E, E, E, E, E, E, E, E, I, E, E, E, E, K, 2A, E, E, E, E, 1A, K, K, K, K, K, K, K, K, K, D, D, K, D, D, D, D, D, D, D, D, J, J, D, J]   \n",
      "  2  SCORES        1 BinTableHDU    131   9500R x 61C   [K, D, D, D, D, D, D, D, D, D, D, D, D, D, D, D, D, D, D, D, D, D, D, D, D, D, D, D, D, D, D, D, D, D, D, D, D, D, D, D, D, D, D, D, D, D, D, D, D, D, D, D, D, D, D, D, D, D, D, D, D]   \n",
      "  3  B_WAVELENGTH    1 ImageHDU         8   (2751,)   float64   \n",
      "  4  B_FLUX        1 ImageHDU         9   (2751, 9500)   float32   \n",
      "  5  B_IVAR        1 ImageHDU         9   (2751, 9500)   float32   \n",
      "  6  B_MASK        1 CompImageHDU     10   (2751, 9500)   int32   \n",
      "  7  B_RESOLUTION    1 ImageHDU         9   (2751, 11, 9500)   float32   \n",
      "  8  R_WAVELENGTH    1 ImageHDU         8   (2326,)   float64   \n",
      "  9  R_FLUX        1 ImageHDU         9   (2326, 9500)   float32   \n",
      " 10  R_IVAR        1 ImageHDU         9   (2326, 9500)   float32   \n",
      " 11  R_MASK        1 CompImageHDU     10   (2326, 9500)   int32   \n",
      " 12  R_RESOLUTION    1 ImageHDU         9   (2326, 11, 9500)   float32   \n",
      " 13  Z_WAVELENGTH    1 ImageHDU         8   (2881,)   float64   \n",
      " 14  Z_FLUX        1 ImageHDU         9   (2881, 9500)   float32   \n",
      " 15  Z_IVAR        1 ImageHDU         9   (2881, 9500)   float32   \n",
      " 16  Z_MASK        1 CompImageHDU     10   (2881, 9500)   int32   \n",
      " 17  Z_RESOLUTION    1 ImageHDU         9   (2881, 11, 9500)   float32   \n"
     ]
    }
   ],
   "source": [
    "hdulspec.info()"
   ]
  },
  {
   "cell_type": "code",
   "execution_count": 7,
   "metadata": {},
   "outputs": [
    {
     "name": "stdout",
     "output_type": "stream",
     "text": [
      "Filename: /Users/fpetri/20210430/redrock-0-80871-thru20210430.fits\n",
      "No.    Name      Ver    Type      Cards   Dimensions   Format\n",
      "  0  PRIMARY       1 PrimaryHDU      70   ()      \n",
      "  1  REDSHIFTS     1 BinTableHDU     32   500R x 11C   [K, D, D, K, D, 10D, K, 6A, 20A, K, D]   \n",
      "  2  FIBERMAP      1 BinTableHDU    171   500R x 81C   [K, I, J, K, J, J, D, D, E, E, E, E, K, B, 3A, E, E, J, D, J, I, 8A, J, J, 4A, E, E, E, E, E, E, E, E, E, E, E, E, E, E, E, E, E, I, E, E, E, E, K, 2A, E, E, E, E, 1A, K, K, K, K, K, K, K, K, K, D, D, J, I, E, I, I, E, E, E, E, D, E, D, E, E, E, E]   \n",
      "  3  EXP_FIBERMAP    1 BinTableHDU     61   9500R x 26C   [K, J, D, J, J, D, J, D, I, J, K, J, J, E, E, E, D, D, K, D, D, D, D, D, D, D]   \n",
      "  4  TSNR2         1 BinTableHDU     75   500R x 33C   [K, E, E, E, E, E, E, E, E, E, E, E, E, E, E, E, E, E, E, E, E, E, E, E, E, E, E, E, E, E, E, E, E]   \n"
     ]
    }
   ],
   "source": [
    "hdulrock.info()"
   ]
  },
  {
   "cell_type": "code",
   "execution_count": 10,
   "metadata": {},
   "outputs": [
    {
     "data": {
      "text/plain": [
       "(array([186.,  65.,  68.,  99.,  55.,   7.,   6.,   6.,   4.,   4.]),\n",
       " array([-1.99569129e-03,  3.81647392e-01,  7.65290476e-01,  1.14893356e+00,\n",
       "         1.53257664e+00,  1.91621973e+00,  2.29986281e+00,  2.68350589e+00,\n",
       "         3.06714898e+00,  3.45079206e+00,  3.83443514e+00]),\n",
       " <BarContainer object of 10 artists>)"
      ]
     },
     "execution_count": 10,
     "metadata": {},
     "output_type": "execute_result"
    },
    {
     "data": {
      "image/png": "[encoded data removed]",
      "text/plain": [
       "<Figure size 640x480 with 1 Axes>"
      ]
     },
     "metadata": {},
     "output_type": "display_data"
    }
   ],
   "source": [
    "plt.hist(hdulrock[1].data['Z'])"
   ]
  }
 ],
 "metadata": {
  "kernelspec": {
   "display_name": "tf_env",
   "language": "python",
   "name": "python3"
  },
  "language_info": {
   "codemirror_mode": {
    "name": "ipython",
    "version": 3
   },
   "file_extension": ".py",
   "mimetype": "text/x-python",
   "name": "python",
   "nbconvert_exporter": "python",
   "pygments_lexer": "ipython3",
   "version": "3.11.9"
  }
 },
 "nbformat": 4,
 "nbformat_minor": 2
}
